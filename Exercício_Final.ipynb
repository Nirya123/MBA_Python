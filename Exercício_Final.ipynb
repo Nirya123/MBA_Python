{
 "cells": [
  {
   "cell_type": "markdown",
   "metadata": {},
   "source": [
    "<font color=\"blue\"><h1>Exercício Final</h1>\n",
    "\n",
    "1) Qual a idade média das pessoas no cadastro?</br>\n",
    "2) Quantos homens tem no cadastro?</br>\n",
    "3) Quantas mulheres tem no cadastro?</br>\n",
    "4) Qual a idade média dos homens e das mulheres?</br>\n",
    "5) Crie um gráfico de barras e mostre a distribuição de escolaridade no cadastro.</br>\n",
    "6) Mostre a Média Salarial do cadastro.</br>\n",
    "7) Quem tem o maior salário?</br>\n",
    "8) Tirando desempregado quem recebe menos?</br>\n",
    "9) Quantas pessoas gostam de caminhar no final de semana?</br>\n",
    "10) Crie um gráfico mostrando entre a relação de escolaridade e quem pratica esporte.</br>\n",
    "11) Crie um mapa de calor.</br>\n",
    "12) Mostre de forma gráfica a distribuição de estados do cadastro.</br>"
   ]
  },
  {
   "cell_type": "code",
   "execution_count": 7,
   "metadata": {},
   "outputs": [
    {
     "data": {
      "text/html": [
       "<div>\n",
       "<style scoped>\n",
       "    .dataframe tbody tr th:only-of-type {\n",
       "        vertical-align: middle;\n",
       "    }\n",
       "\n",
       "    .dataframe tbody tr th {\n",
       "        vertical-align: top;\n",
       "    }\n",
       "\n",
       "    .dataframe thead th {\n",
       "        text-align: right;\n",
       "    }\n",
       "</style>\n",
       "<table border=\"1\" class=\"dataframe\">\n",
       "  <thead>\n",
       "    <tr style=\"text-align: right;\">\n",
       "      <th></th>\n",
       "      <th>nome</th>\n",
       "      <th>sobrenome</th>\n",
       "      <th>ano_nascimento</th>\n",
       "      <th>sexo</th>\n",
       "      <th>cidade</th>\n",
       "      <th>profissão</th>\n",
       "      <th>experiencia profissional</th>\n",
       "      <th>estado_civil</th>\n",
       "      <th>filhos</th>\n",
       "      <th>lazer_final_de_semana</th>\n",
       "      <th>pratica_esporte</th>\n",
       "      <th>qual_esporte</th>\n",
       "      <th>quanta_vezes_na_semana_pratica_esporte</th>\n",
       "      <th>tem carro</th>\n",
       "      <th>escolaridade</th>\n",
       "    </tr>\n",
       "  </thead>\n",
       "  <tbody>\n",
       "    <tr>\n",
       "      <th>0</th>\n",
       "      <td>Dirceu</td>\n",
       "      <td>Manolo</td>\n",
       "      <td>1985</td>\n",
       "      <td>m</td>\n",
       "      <td>São Vicente</td>\n",
       "      <td>Cientista de Dados</td>\n",
       "      <td>4</td>\n",
       "      <td>Casado</td>\n",
       "      <td>1</td>\n",
       "      <td>estudar, academia, jogar video game,surfar</td>\n",
       "      <td>sim</td>\n",
       "      <td>academia</td>\n",
       "      <td>3.0</td>\n",
       "      <td>sim</td>\n",
       "      <td>Ensino Superior</td>\n",
       "    </tr>\n",
       "    <tr>\n",
       "      <th>1</th>\n",
       "      <td>Maria</td>\n",
       "      <td>Silva</td>\n",
       "      <td>1970</td>\n",
       "      <td>f</td>\n",
       "      <td>Santos</td>\n",
       "      <td>dona de casa</td>\n",
       "      <td>2</td>\n",
       "      <td>Casada</td>\n",
       "      <td>3</td>\n",
       "      <td>ver tv</td>\n",
       "      <td>não</td>\n",
       "      <td>-</td>\n",
       "      <td>0.0</td>\n",
       "      <td>não</td>\n",
       "      <td>Ensino Médio</td>\n",
       "    </tr>\n",
       "    <tr>\n",
       "      <th>2</th>\n",
       "      <td>Adalberto</td>\n",
       "      <td>Martins</td>\n",
       "      <td>1990</td>\n",
       "      <td>m</td>\n",
       "      <td>São Paulo</td>\n",
       "      <td>desempregado</td>\n",
       "      <td>0</td>\n",
       "      <td>Solteiro</td>\n",
       "      <td>1</td>\n",
       "      <td>jogar bola</td>\n",
       "      <td>sim</td>\n",
       "      <td>jogo bola</td>\n",
       "      <td>2.0</td>\n",
       "      <td>sim</td>\n",
       "      <td>Ensino Superior</td>\n",
       "    </tr>\n",
       "    <tr>\n",
       "      <th>3</th>\n",
       "      <td>João</td>\n",
       "      <td>Aparecido</td>\n",
       "      <td>1950</td>\n",
       "      <td>m</td>\n",
       "      <td>Monte Alto</td>\n",
       "      <td>Gerente de Projeto</td>\n",
       "      <td>3</td>\n",
       "      <td>Viuvo</td>\n",
       "      <td>2</td>\n",
       "      <td>Nã faço nada</td>\n",
       "      <td>NaN</td>\n",
       "      <td>-</td>\n",
       "      <td>NaN</td>\n",
       "      <td>sim</td>\n",
       "      <td>Ensino Superior</td>\n",
       "    </tr>\n",
       "    <tr>\n",
       "      <th>4</th>\n",
       "      <td>Marta</td>\n",
       "      <td>da Silva</td>\n",
       "      <td>1983</td>\n",
       "      <td>f</td>\n",
       "      <td>São Caetano</td>\n",
       "      <td>Auxiliar de Enfermagem</td>\n",
       "      <td>2</td>\n",
       "      <td>Solteira</td>\n",
       "      <td>0</td>\n",
       "      <td>caminhar</td>\n",
       "      <td>sim</td>\n",
       "      <td>crossfit</td>\n",
       "      <td>4.0</td>\n",
       "      <td>não</td>\n",
       "      <td>Ensimo Tecnico</td>\n",
       "    </tr>\n",
       "  </tbody>\n",
       "</table>\n",
       "</div>"
      ],
      "text/plain": [
       "        nome  sobrenome  ano_nascimento sexo       cidade  \\\n",
       "0     Dirceu     Manolo            1985    m  São Vicente   \n",
       "1      Maria      Silva            1970    f       Santos   \n",
       "2  Adalberto    Martins            1990    m    São Paulo   \n",
       "3       João  Aparecido            1950    m   Monte Alto   \n",
       "4      Marta   da Silva            1983    f  São Caetano   \n",
       "\n",
       "                profissão  experiencia profissional estado_civil  filhos  \\\n",
       "0      Cientista de Dados                         4       Casado       1   \n",
       "1            dona de casa                         2       Casada       3   \n",
       "2            desempregado                         0     Solteiro       1   \n",
       "3      Gerente de Projeto                         3        Viuvo       2   \n",
       "4  Auxiliar de Enfermagem                         2     Solteira       0   \n",
       "\n",
       "                        lazer_final_de_semana pratica_esporte qual_esporte  \\\n",
       "0  estudar, academia, jogar video game,surfar             sim     academia   \n",
       "1                                      ver tv             não            -   \n",
       "2                                  jogar bola             sim    jogo bola   \n",
       "3                                Nã faço nada             NaN            -   \n",
       "4                                    caminhar             sim     crossfit   \n",
       "\n",
       "   quanta_vezes_na_semana_pratica_esporte tem carro     escolaridade  \n",
       "0                                     3.0       sim  Ensino Superior  \n",
       "1                                     0.0       não     Ensino Médio  \n",
       "2                                     2.0       sim  Ensino Superior  \n",
       "3                                     NaN       sim  Ensino Superior  \n",
       "4                                     4.0       não   Ensimo Tecnico  "
      ]
     },
     "execution_count": 7,
     "metadata": {},
     "output_type": "execute_result"
    }
   ],
   "source": [
    "# Importar a tabela de CADASTRO\n",
    "import pandas as pd\n",
    "\n",
    "cadastro_df = pd.read_csv('cadastro - cadastro.csv')\n",
    "cadastro_df.head()"
   ]
  },
  {
   "cell_type": "code",
   "execution_count": 8,
   "metadata": {},
   "outputs": [
    {
     "name": "stdout",
     "output_type": "stream",
     "text": [
      "Idade média das pessoas baseado no ano_nascimento    33.0\n",
      "dtype: float64\n"
     ]
    }
   ],
   "source": [
    "# Questão 1 - Qual a idade média das pessoas no cadastro?\n",
    "\n",
    "cadastro_df = pd.read_csv('cadastro - cadastro.csv')\n",
    "\n",
    "idade_df = cadastro_df[['ano_nascimento']].mean() \n",
    "\n",
    "print('Idade média das pessoas baseado no', round(2020 - idade_df))"
   ]
  },
  {
   "cell_type": "code",
   "execution_count": 9,
   "metadata": {},
   "outputs": [
    {
     "data": {
      "text/html": [
       "<div>\n",
       "<style scoped>\n",
       "    .dataframe tbody tr th:only-of-type {\n",
       "        vertical-align: middle;\n",
       "    }\n",
       "\n",
       "    .dataframe tbody tr th {\n",
       "        vertical-align: top;\n",
       "    }\n",
       "\n",
       "    .dataframe thead th {\n",
       "        text-align: right;\n",
       "    }\n",
       "</style>\n",
       "<table border=\"1\" class=\"dataframe\">\n",
       "  <thead>\n",
       "    <tr style=\"text-align: right;\">\n",
       "      <th></th>\n",
       "      <th>nome</th>\n",
       "    </tr>\n",
       "    <tr>\n",
       "      <th>sexo</th>\n",
       "      <th></th>\n",
       "    </tr>\n",
       "  </thead>\n",
       "  <tbody>\n",
       "    <tr>\n",
       "      <th>Qtd</th>\n",
       "      <td>16</td>\n",
       "    </tr>\n",
       "  </tbody>\n",
       "</table>\n",
       "</div>"
      ],
      "text/plain": [
       "      nome\n",
       "sexo      \n",
       "Qtd     16"
      ]
     },
     "execution_count": 9,
     "metadata": {},
     "output_type": "execute_result"
    }
   ],
   "source": [
    "# Questão 2 - Quantos homens tem no cadastro?\n",
    "\n",
    "novo_cadastro_df = cadastro_df[['sexo', 'nome']].loc[cadastro_df.sexo == 'm'].replace('m','Qtd').groupby('sexo').count()\n",
    "\n",
    "novo_cadastro_df"
   ]
  },
  {
   "cell_type": "code",
   "execution_count": 10,
   "metadata": {},
   "outputs": [
    {
     "data": {
      "text/html": [
       "<div>\n",
       "<style scoped>\n",
       "    .dataframe tbody tr th:only-of-type {\n",
       "        vertical-align: middle;\n",
       "    }\n",
       "\n",
       "    .dataframe tbody tr th {\n",
       "        vertical-align: top;\n",
       "    }\n",
       "\n",
       "    .dataframe thead th {\n",
       "        text-align: right;\n",
       "    }\n",
       "</style>\n",
       "<table border=\"1\" class=\"dataframe\">\n",
       "  <thead>\n",
       "    <tr style=\"text-align: right;\">\n",
       "      <th></th>\n",
       "      <th>nome</th>\n",
       "    </tr>\n",
       "    <tr>\n",
       "      <th>sexo</th>\n",
       "      <th></th>\n",
       "    </tr>\n",
       "  </thead>\n",
       "  <tbody>\n",
       "    <tr>\n",
       "      <th>Qtd</th>\n",
       "      <td>14</td>\n",
       "    </tr>\n",
       "  </tbody>\n",
       "</table>\n",
       "</div>"
      ],
      "text/plain": [
       "      nome\n",
       "sexo      \n",
       "Qtd     14"
      ]
     },
     "execution_count": 10,
     "metadata": {},
     "output_type": "execute_result"
    }
   ],
   "source": [
    "# Questão 3 - Quantas mulheres tem no cadastro?\n",
    "\n",
    "novo_cadastro_df = cadastro_df[['sexo', 'nome']].loc[cadastro_df.sexo == 'f'].replace('f','Qtd').groupby('sexo').count()\n",
    "\n",
    "novo_cadastro_df"
   ]
  },
  {
   "cell_type": "code",
   "execution_count": 11,
   "metadata": {},
   "outputs": [
    {
     "name": "stdout",
     "output_type": "stream",
     "text": [
      "Média das mulheres baseado no ano_nascimento    34.0\n",
      "dtype: float64\n",
      "Média dos homens baseado no ano_nascimento    32.0\n",
      "dtype: float64\n"
     ]
    }
   ],
   "source": [
    "# Questão 4 - Qual a idade média dos homens e das mulheres?\n",
    "\n",
    "idade_f = cadastro_df[['ano_nascimento']].loc[cadastro_df.sexo == 'f'].mean()\n",
    "\n",
    "idade_m = cadastro_df[['ano_nascimento']].loc[cadastro_df.sexo == 'm'].mean()\n",
    "\n",
    "print('Média das mulheres baseado no', round(2020 - idade_f))\n",
    "\n",
    "print('Média dos homens baseado no', round(2020 - idade_m))"
   ]
  },
  {
   "cell_type": "code",
   "execution_count": 23,
   "metadata": {},
   "outputs": [
    {
     "data": {
      "text/plain": [
       "<matplotlib.axes._subplots.AxesSubplot at 0x238c40fd370>"
      ]
     },
     "execution_count": 23,
     "metadata": {},
     "output_type": "execute_result"
    },
    {
     "data": {
      "image/png": "[encoded data removed]",
      "text/plain": [
       "<Figure size 432x288 with 1 Axes>"
      ]
     },
     "metadata": {
      "needs_background": "light"
     },
     "output_type": "display_data"
    }
   ],
   "source": [
    "# Questão 5 - Crie um gráfico de barras e mostre a distribuição de escolaridade no cadastro.\n",
    "\n",
    "dist_df = pd.read_csv('cadastro - cadastro.csv')\n",
    "\n",
    "cadastro_df = df[['escolaridade']]\n",
    "\n",
    "novo_cadastro = cadastro_df.replace('ensino médio', 'Ensino Médio').replace('ensino Médio','Ensino Médio').replace('ensino superior','Ensino Superior').replace('Ensimo Tecnico','Ensino Técnico')\n",
    "\n",
    "novo_cadastro\n",
    "\n",
    "novo_cadastro['Quantidade'] = 1\n",
    "\n",
    "novo_cadastro[['escolaridade','Quantidade']].groupby('escolaridade').sum().plot(kind='bar' , title = 'Distribuição de escolaridade')\n"
   ]
  },
  {
   "cell_type": "code",
   "execution_count": 24,
   "metadata": {},
   "outputs": [
    {
     "name": "stdout",
     "output_type": "stream",
     "text": [
      "Média salario até 3 anos    3486.0\n",
      "dtype: float64\n",
      "Média salário superior a 3 anos    6103.45\n",
      "dtype: float64\n"
     ]
    }
   ],
   "source": [
    "# Questão 6 - Mostre a Média Salarial do cadastro.\n",
    "\n",
    "# Importar tabela SALÁRIO - PROFISSÕES\n",
    "import pandas as pd\n",
    "\n",
    "salario_df = pd.read_csv('salario - profissoes.csv')\n",
    "\n",
    "cadastro_df = pd.read_csv('cadastro - cadastro.csv')\n",
    "\n",
    "novo_salario_df = salario_df.rename(columns={'Profissões': 'profissão'}).rename(columns={'salaior +3 anos': 'salário superior a 3 anos'})\n",
    "\n",
    "salario_df = novo_salario_df[['profissão','salario até 3 anos']]\n",
    "\n",
    "superior_salario_df = novo_salario_df[['profissão','salário superior a 3 anos']]\n",
    "\n",
    "novo_cadastro_df = cadastro_df[['nome','profissão']]\n",
    "\n",
    "print('Média',round(novo_cadastro_df.merge(salario_df, left_on='profissão', right_on='profissão').mean()))\n",
    "\n",
    "print('Média',round(novo_cadastro_df.merge(superior_salario_df, left_on='profissão', right_on='profissão').mean(),2))\n"
   ]
  },
  {
   "cell_type": "code",
   "execution_count": 60,
   "metadata": {},
   "outputs": [
    {
     "data": {
      "text/html": [
       "<div>\n",
       "<style scoped>\n",
       "    .dataframe tbody tr th:only-of-type {\n",
       "        vertical-align: middle;\n",
       "    }\n",
       "\n",
       "    .dataframe tbody tr th {\n",
       "        vertical-align: top;\n",
       "    }\n",
       "\n",
       "    .dataframe thead th {\n",
       "        text-align: right;\n",
       "    }\n",
       "</style>\n",
       "<table border=\"1\" class=\"dataframe\">\n",
       "  <thead>\n",
       "    <tr style=\"text-align: right;\">\n",
       "      <th></th>\n",
       "      <th>nome</th>\n",
       "      <th>profissão</th>\n",
       "      <th>salario_ate_3_anos</th>\n",
       "    </tr>\n",
       "  </thead>\n",
       "  <tbody>\n",
       "    <tr>\n",
       "      <th>9</th>\n",
       "      <td>Mirtes</td>\n",
       "      <td>Médica</td>\n",
       "      <td>12000</td>\n",
       "    </tr>\n",
       "  </tbody>\n",
       "</table>\n",
       "</div>"
      ],
      "text/plain": [
       "     nome profissão  salario_ate_3_anos\n",
       "9  Mirtes    Médica               12000"
      ]
     },
     "execution_count": 60,
     "metadata": {},
     "output_type": "execute_result"
    }
   ],
   "source": [
    "# Questão 7 - Quem tem o maior salário?\n",
    "\n",
    "salario_df = pd.read_csv('salario - profissoes.csv')\n",
    "\n",
    "cadastro_df = pd.read_csv('cadastro - cadastro.csv')\n",
    "\n",
    "novo_salario_df = salario_df.rename(columns={'Profissões': 'profissão'}).rename(columns={'salaior +3 anos': 'salario_acima_3_anos'}).rename(columns={'salario até 3 anos': 'salario_ate_3_anos'})\n",
    "\n",
    "salario_df = novo_salario_df[['profissão','salario_ate_3_anos']]\n",
    "\n",
    "acima_salario_df = novo_salario_df[['profissão','salario_acima_3_anos']]\n",
    "\n",
    "novo_cadastro_df = cadastro_df[['nome','profissão']]\n",
    "\n",
    "max_ate_3_salarios_df = novo_cadastro_df.merge(salario_df, left_on='profissão', right_on='profissão')\n",
    "\n",
    "max_maior_3_salarios_df = novo_cadastro_df.merge(acima_salario_df, left_on='profissão', right_on='profissão')\n",
    "\n",
    "# Precisa saber qual é o maior salário para pegar o nome.\n",
    "\n",
    "#print('O maior salário até 3 anos é R$',max_ate_3_salarios_df['salario_ate_3_anos'].max())\n",
    "\n",
    "max_ate_3_salarios_df.loc[(max_ate_3_salarios_df.salario_ate_3_anos == 12000)]\n"
   ]
  },
  {
   "cell_type": "code",
   "execution_count": 66,
   "metadata": {},
   "outputs": [],
   "source": [
    "# Questão 8 - Tirando desempregado quem recebe menos?\n",
    "\n",
    "\n"
   ]
  },
  {
   "cell_type": "code",
   "execution_count": 29,
   "metadata": {},
   "outputs": [
    {
     "data": {
      "text/plain": [
       "4"
      ]
     },
     "execution_count": 29,
     "metadata": {},
     "output_type": "execute_result"
    }
   ],
   "source": [
    "# Questão 9 - Quantas pessoas gostam de caminhar no final de semana?\n",
    "\n",
    "with open (\"cadastro - cadastro.csv\",\"r\", encoding = 'utf-8') as cadastro_novo:\n",
    "    caminhar = cadastro_novo.read().count('caminhar')\n",
    "\n",
    "caminhar"
   ]
  },
  {
   "cell_type": "code",
   "execution_count": 52,
   "metadata": {},
   "outputs": [
    {
     "data": {
      "text/plain": [
       "<matplotlib.axes._subplots.AxesSubplot at 0x238c6b5b2b0>"
      ]
     },
     "execution_count": 52,
     "metadata": {},
     "output_type": "execute_result"
    },
    {
     "data": {
      "image/png": "[encoded data removed]",
      "text/plain": [
       "<Figure size 432x288 with 1 Axes>"
      ]
     },
     "metadata": {
      "needs_background": "light"
     },
     "output_type": "display_data"
    }
   ],
   "source": [
    "# Questão 10 - Crie um gráfico mostrando entre a relação de escolaridade e quem pratica esporte.\n",
    "\n",
    "import numpy as np\n",
    "\n",
    "import matplotlib.pyplot as plt\n",
    "\n",
    "novo_df = pd.read_csv('cadastro - cadastro.csv')\n",
    "\n",
    "cadastro_df = novo_df[['escolaridade','pratica_esporte']]\n",
    "\n",
    "novo_cadastro = cadastro_df.replace('ensino médio', 'Ensino Médio').replace('ensino Médio','Ensino Médio').replace('ensino superior','Ensino Superior').replace('Ensimo Tecnico','Ensino Técnico')\n",
    "\n",
    "crosstab_vg = pd.crosstab(novo_cadastro['pratica_esporte'], novo_cadastro['escolaridade'])\n",
    "\n",
    "crosstab_vg['total'] = crosstab_vg.sum(axis=1)\n",
    "\n",
    "crosstab_vg.plot(kind='bar' , title = 'Escolaridade X Esporte', color = ['#696969','#ADD8E6','#F5DEB3','#D8BFD8'])"
   ]
  },
  {
   "cell_type": "code",
   "execution_count": 50,
   "metadata": {},
   "outputs": [
    {
     "data": {
      "text/plain": [
       "<matplotlib.axes._subplots.AxesSubplot at 0x238c67be340>"
      ]
     },
     "execution_count": 50,
     "metadata": {},
     "output_type": "execute_result"
    },
    {
     "data": {
      "image/png": "[encoded data removed]",
      "text/plain": [
       "<Figure size 720x576 with 2 Axes>"
      ]
     },
     "metadata": {
      "needs_background": "light"
     },
     "output_type": "display_data"
    }
   ],
   "source": [
    "# Questão 11 - Crie um mapa de calor.\n",
    "\n",
    "from string import ascii_letters\n",
    "\n",
    "import numpy as np\n",
    "\n",
    "import pandas as pd\n",
    "\n",
    "import seaborn as sb\n",
    "\n",
    "import matplotlib.pyplot as plt\n",
    "\n",
    "df = pd.read_csv('cadastro - cadastro.csv')\n",
    "\n",
    "mapa_df = pd.crosstab(df['nome'],df['quanta_vezes_na_semana_pratica_esporte'])\n",
    "\n",
    "mapa_df['total'] = mapa_df.sum(axis=1)\n",
    "\n",
    "corr = mapa_df.corr()\n",
    "\n",
    "mask = np.triu(np.ones_like(corr, dtype=bool))\n",
    "\n",
    "f, ax = plt.subplots(figsize=(10, 8))\n",
    "\n",
    "sb.heatmap(corr, mask=mask, vmax=.2, center=0,\n",
    "            square=True, linewidths=.3, cbar_kws={\"shrink\": .3})"
   ]
  },
  {
   "cell_type": "code",
   "execution_count": 51,
   "metadata": {},
   "outputs": [
    {
     "name": "stderr",
     "output_type": "stream",
     "text": [
      "<ipython-input-51-29dd5e623240>:7: SettingWithCopyWarning: \n",
      "A value is trying to be set on a copy of a slice from a DataFrame.\n",
      "Try using .loc[row_indexer,col_indexer] = value instead\n",
      "\n",
      "See the caveats in the documentation: https://pandas.pydata.org/pandas-docs/stable/user_guide/indexing.html#returning-a-view-versus-a-copy\n",
      "  cadastro_df['Quantidade'] = 1\n"
     ]
    },
    {
     "data": {
      "text/plain": [
       "<matplotlib.axes._subplots.AxesSubplot at 0x238c6a969a0>"
      ]
     },
     "execution_count": 51,
     "metadata": {},
     "output_type": "execute_result"
    },
    {
     "data": {
      "image/png": "[encoded data removed]",
      "text/plain": [
       "<Figure size 432x288 with 1 Axes>"
      ]
     },
     "metadata": {
      "needs_background": "light"
     },
     "output_type": "display_data"
    }
   ],
   "source": [
    "# Questão 12 - Mostre de forma gráfica a distribuição de estados do cadastro.\n",
    "\n",
    "novo_df = pd.read_csv('cadastro - cadastro.csv')\n",
    "\n",
    "cadastro_df = novo_df[['cidade']]\n",
    "\n",
    "cadastro_df['Quantidade'] = 1\n",
    "\n",
    "cadastro_df[['Quantidade','cidade']].groupby('cidade').sum().plot(kind='bar' , title = 'Distribuição de estados', color = \"blue\")"
   ]
  },
  {
   "cell_type": "code",
   "execution_count": null,
   "metadata": {},
   "outputs": [],
   "source": []
  }
 ],
 "metadata": {
  "kernelspec": {
   "display_name": "Python 3",
   "language": "python",
   "name": "python3"
  },
  "language_info": {
   "codemirror_mode": {
    "name": "ipython",
    "version": 3
   },
   "file_extension": ".py",
   "mimetype": "text/x-python",
   "name": "python",
   "nbconvert_exporter": "python",
   "pygments_lexer": "ipython3",
   "version": "3.8.3"
  }
 },
 "nbformat": 4,
 "nbformat_minor": 4
}
