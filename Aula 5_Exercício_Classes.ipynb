{
 "cells": [
  {
   "cell_type": "code",
   "execution_count": null,
   "metadata": {},
   "outputs": [],
   "source": [
    "class Veiculo:\n",
    "    porta = 0\n",
    "    roda = 0\n",
    "    cor = ''\n",
    "    \n",
    "    def __init__(self, porta, cor, roda):\n",
    "        self.porta = porta\n",
    "        self.cor = cor\n",
    "        self.roda = roda\n",
    "        print('Meu carro tem', porta,'portas, é da cor', cor, 'e tem', roda, 'rodas.')\n",
    "        \n",
    "    def mudarcor(self, nova_cor):\n",
    "        self.cor = nova_cor\n",
    "    \n",
    "    def imprimenovacor(self):\n",
    "        print('Nova cor', self.cor)\n",
    "        \n",
    "carro_mary = Veiculo(5,'rosa',4)\n",
    "carro_mary.mudarcor('amarelo')\n",
    "carro_mary.imprimenovacor()"
   ]
  },
  {
   "cell_type": "code",
   "execution_count": null,
   "metadata": {},
   "outputs": [],
   "source": []
  }
 ],
 "metadata": {
  "kernelspec": {
   "display_name": "",
   "name": ""
  },
  "language_info": {
   "name": ""
  }
 },
 "nbformat": 4,
 "nbformat_minor": 4
}
