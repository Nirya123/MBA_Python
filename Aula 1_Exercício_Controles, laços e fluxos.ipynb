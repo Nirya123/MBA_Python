{
 "cells": [
  {
   "cell_type": "markdown",
   "metadata": {},
   "source": [
    "<font color=\"blue\"><h1>Exercício 1</h1>\n",
    "<h2>Crie uma calculadora simples.</h2>\n",
    " "
   ]
  },
  {
   "cell_type": "markdown",
   "metadata": {},
   "source": [
    "<u><font size=\"2\">PASSO 1:</font></u> Entrada dos valores.\n",
    "\n",
    "- Comando <font color=\"red\">input</font> = imprimir a mensagem na tela.\n",
    "- No <i>input</i>, incluir o <i>espaço</i> no final do texto para armazenar as informações.\n",
    "\n",
    "<b>IMPORTANTE:</b> O <i>input </i>armazena os valores como string! Portanto, precisamos declarar que queremos apenas números inteiros.\n",
    "\n",
    "- Comando <font color=\"red\">int</font> = converter string em números inteiros.\n",
    "\n",
    "<u><font size=\"2\">PASSO 2:</font></u> Escolher o tipo de operação.\n",
    "\n",
    "- Nesse caso, poderá digitar: <b>(+)</b>,<b>(-)</b>,<b>(*)</b> ou <b>(/)</b>.\n",
    "\n",
    "- O sinal de igual é <font color=\"red\">==</font>.\n",
    "\n",
    "- Para descrever a operação completa, inserir uma máscara dentro do comando <i>print</i>.\n",
    "\n",
    "<u><font size=\"2\">PASSO 3:</font></u> Mensagemde erro.\n",
    "\n",
    "- Na divisão, não é possível dividir um número por zero.\n",
    "\n",
    "- Ao tentar dividir algum número por 0, retornará um erro.\n",
    "\n",
    "- Se for digitado algum outro operador lógico que não se enquadre no proposto, imprimirá uma mensagem."
   ]
  },
  {
   "cell_type": "code",
   "execution_count": 54,
   "metadata": {},
   "outputs": [
    {
     "name": "stdin",
     "output_type": "stream",
     "text": [
      "Digite o valor 1:  5\n",
      "Digite o valor 2:  3\n"
     ]
    }
   ],
   "source": [
    "valor1 = int(input('Digite o valor 1: '))\n",
    "valor2 = int(input('Digite o valor 2: '))"
   ]
  },
  {
   "cell_type": "code",
   "execution_count": 21,
   "metadata": {},
   "outputs": [
    {
     "name": "stdin",
     "output_type": "stream",
     "text": [
      "Digite o valor 1:  5\n",
      "Digite o valor 2:  3\n",
      "Qual é a operação? \n"
     ]
    }
   ],
   "source": [
    "valor1 = int(input('Digite o valor 1: '))\n",
    "valor2 = int(input('Digite o valor 2: '))\n",
    "\n",
    "operacao = input('Qual é a operação?')"
   ]
  },
  {
   "cell_type": "code",
   "execution_count": 22,
   "metadata": {},
   "outputs": [
    {
     "name": "stdin",
     "output_type": "stream",
     "text": [
      "Digite o valor 1:  5\n",
      "Digite o valor 2:  3\n",
      "Qual é a operação? +\n"
     ]
    },
    {
     "name": "stdout",
     "output_type": "stream",
     "text": [
      "8\n"
     ]
    }
   ],
   "source": [
    "valor1 = int(input('Digite o valor 1: '))\n",
    "valor2 = int(input('Digite o valor 2: '))\n",
    "\n",
    "operacao = input('Qual é a operação?')\n",
    "\n",
    "if operacao == '+':\n",
    "    print(valor1 + valor2)"
   ]
  },
  {
   "cell_type": "code",
   "execution_count": 26,
   "metadata": {},
   "outputs": [
    {
     "name": "stdin",
     "output_type": "stream",
     "text": [
      "Digite o valor 1:  5\n",
      "Digite o valor 2:  3\n",
      "Qual é a operação? +\n"
     ]
    },
    {
     "name": "stdout",
     "output_type": "stream",
     "text": [
      "5 + 3 = 8\n"
     ]
    }
   ],
   "source": [
    "valor1 = int(input('Digite o valor 1: '))\n",
    "valor2 = int(input('Digite o valor 2: '))\n",
    "\n",
    "operacao = input('Qual é a operação?')\n",
    "\n",
    "if operacao == '+':\n",
    "    print(valor1, '+', valor2, '=', valor1 + valor2)"
   ]
  },
  {
   "cell_type": "code",
   "execution_count": 27,
   "metadata": {},
   "outputs": [
    {
     "name": "stdin",
     "output_type": "stream",
     "text": [
      "Digite o valor 1:  5\n",
      "Digite o valor 2:  3\n",
      "Qual é a operação? -\n"
     ]
    },
    {
     "name": "stdout",
     "output_type": "stream",
     "text": [
      "5 - 3 = 2\n"
     ]
    }
   ],
   "source": [
    "valor1 = int(input('Digite o valor 1: '))\n",
    "valor2 = int(input('Digite o valor 2: '))\n",
    "\n",
    "operacao = input('Qual é a operação?')\n",
    "\n",
    "if operacao == '+':\n",
    "    print(valor1, '+', valor2, '=', valor1 + valor2)\n",
    "    \n",
    "elif operacao == '-':\n",
    "        print(valor1, '-', valor2, '=', valor1 - valor2)"
   ]
  },
  {
   "cell_type": "code",
   "execution_count": 59,
   "metadata": {},
   "outputs": [
    {
     "name": "stdin",
     "output_type": "stream",
     "text": [
      "Digite o valor 1:  3\n",
      "Digite o valor 2:  5\n",
      "Qual é a operação? *\n"
     ]
    },
    {
     "name": "stdout",
     "output_type": "stream",
     "text": [
      "3 * 5 = 15\n"
     ]
    }
   ],
   "source": [
    "valor1 = int(input('Digite o valor 1: '))\n",
    "valor2 = int(input('Digite o valor 2: '))\n",
    "\n",
    "operacao = input('Qual é a operação?')\n",
    "\n",
    "if operacao == '+':\n",
    "    print(valor1, '+', valor2, '=', valor1 + valor2)\n",
    "    \n",
    "elif operacao == '-':\n",
    "        print(valor1, '-', valor2, '=', valor1 - valor2)\n",
    "        \n",
    "elif operacao == '*':\n",
    "        print(valor1, '*', valor2, '=', valor1 * valor2)"
   ]
  },
  {
   "cell_type": "code",
   "execution_count": 30,
   "metadata": {},
   "outputs": [
    {
     "name": "stdin",
     "output_type": "stream",
     "text": [
      "Digite o valor 1:  5\n",
      "Digite o valor 2:  3\n",
      "Qual é a operação? /\n"
     ]
    },
    {
     "name": "stdout",
     "output_type": "stream",
     "text": [
      "5 / 3 = 1.6666666666666667\n"
     ]
    }
   ],
   "source": [
    "valor1 = int(input('Digite o valor 1: '))\n",
    "valor2 = int(input('Digite o valor 2: '))\n",
    "\n",
    "operacao = input('Qual é a operação?')\n",
    "\n",
    "if operacao == '+':\n",
    "    print(valor1, '+', valor2, '=', valor1 + valor2)\n",
    "    \n",
    "elif operacao == '-':\n",
    "        print(valor1, '-', valor2, '=', valor1 - valor2)\n",
    "        \n",
    "elif operacao == '*':\n",
    "        print(valor1, '*', valor2, '=', valor1 * valor2)\n",
    "        \n",
    "elif operacao == '/':\n",
    "        print(valor1, '/', valor2, '=', valor1 / valor2)"
   ]
  },
  {
   "cell_type": "code",
   "execution_count": 63,
   "metadata": {},
   "outputs": [
    {
     "name": "stdin",
     "output_type": "stream",
     "text": [
      "Digite o valor 1:  5\n",
      "Digite o valor 2:  0\n",
      "Qual é a operação? /\n"
     ]
    },
    {
     "name": "stdout",
     "output_type": "stream",
     "text": [
      "Erro: divisão por zero!\n"
     ]
    },
    {
     "ename": "ZeroDivisionError",
     "evalue": "division by zero",
     "output_type": "error",
     "traceback": [
      "\u001b[1;31m---------------------------------------------------------------------------\u001b[0m",
      "\u001b[1;31mZeroDivisionError\u001b[0m                         Traceback (most recent call last)",
      "\u001b[1;32m<ipython-input-63-a6584ee89b31>\u001b[0m in \u001b[0;36m<module>\u001b[1;34m\u001b[0m\n\u001b[0;32m     15\u001b[0m \u001b[1;32melif\u001b[0m \u001b[0moperacao\u001b[0m \u001b[1;33m==\u001b[0m \u001b[1;34m'/'\u001b[0m\u001b[1;33m:\u001b[0m\u001b[1;33m\u001b[0m\u001b[1;33m\u001b[0m\u001b[0m\n\u001b[0;32m     16\u001b[0m         \u001b[1;32mif\u001b[0m \u001b[0mvalor2\u001b[0m \u001b[1;33m==\u001b[0m \u001b[1;36m0\u001b[0m\u001b[1;33m:\u001b[0m \u001b[0mprint\u001b[0m\u001b[1;33m(\u001b[0m\u001b[1;34m'Erro: divisão por zero!'\u001b[0m\u001b[1;33m)\u001b[0m\u001b[1;33m\u001b[0m\u001b[1;33m\u001b[0m\u001b[0m\n\u001b[1;32m---> 17\u001b[1;33m         \u001b[0mprint\u001b[0m\u001b[1;33m(\u001b[0m\u001b[0mvalor1\u001b[0m\u001b[1;33m,\u001b[0m \u001b[1;34m'/'\u001b[0m\u001b[1;33m,\u001b[0m \u001b[0mvalor2\u001b[0m\u001b[1;33m,\u001b[0m \u001b[1;34m'='\u001b[0m\u001b[1;33m,\u001b[0m \u001b[0mvalor1\u001b[0m \u001b[1;33m/\u001b[0m \u001b[0mvalor2\u001b[0m\u001b[1;33m)\u001b[0m\u001b[1;33m\u001b[0m\u001b[1;33m\u001b[0m\u001b[0m\n\u001b[0m\u001b[0;32m     18\u001b[0m \u001b[1;33m\u001b[0m\u001b[0m\n\u001b[0;32m     19\u001b[0m \u001b[1;32melse\u001b[0m\u001b[1;33m:\u001b[0m\u001b[1;33m\u001b[0m\u001b[1;33m\u001b[0m\u001b[0m\n",
      "\u001b[1;31mZeroDivisionError\u001b[0m: division by zero"
     ]
    }
   ],
   "source": [
    "valor1 = int(input('Digite o valor 1: '))\n",
    "valor2 = int(input('Digite o valor 2: '))\n",
    "\n",
    "operacao = input('Qual é a operação?')\n",
    "\n",
    "if operacao == '+':\n",
    "    print(valor1, '+', valor2, '=', valor1 + valor2)\n",
    "    \n",
    "elif operacao == '-':\n",
    "        print(valor1, '-', valor2, '=', valor1 - valor2)\n",
    "        \n",
    "elif operacao == '*':\n",
    "        print(valor1, '*', valor2, '=', valor1 * valor2)\n",
    "        \n",
    "elif operacao == '/':\n",
    "        if valor2 == 0: print('Erro: divisão por zero!')\n",
    "        print(valor1, '/', valor2, '=', valor1 / valor2)\n",
    "        \n",
    "else:\n",
    "    print('Digite um operador válido!')"
   ]
  },
  {
   "cell_type": "markdown",
   "metadata": {},
   "source": [
    "<font color=\"blue\"><h1>Exercício 2</h1>\n",
    "<h2>A partir do array: nota = [9,6,7,3,8,8,\"oito\", \"A\", \"C\"], tire a média desses valores.</h2>\n",
    "<font color=\"steelblue\">Observação: Veja que tem string nesse array. A média só se tira com números!"
   ]
  },
  {
   "cell_type": "markdown",
   "metadata": {},
   "source": [
    "<u><font size=\"2\"><u>PASSO 1:</font></u> Remover as strings.\n",
    "\n",
    "- Para remover as strings, utilizamos o comando <font color=\"red\">remove</font>.\n",
    "\n",
    "- Para contar a quantidade/tamanho do array, utilizamos o comando <font color=\"red\">len</font>.\n",
    "\n",
    "<u><font size=\"2\">PASSO 2:</font></u> Somar as notas\n",
    "\n",
    "- Atribuímos a soma a partir do primeiro número.\n",
    "\n",
    "- Utilizamos a incógnita <b>n</b> para representar o próximo número que será somado.\n",
    "\n",
    "- A soma é feita de forma sequencial: a partir do número inicial (9) + o próximo (n = 6, de acordo com a ordem) e assim por diante.\n",
    "\n",
    "<u><font size=\"2\">PASSO 3:</font></u> Tirar a média.\n",
    "\n",
    "- A média é a soma total das notas dividido pela quantidade.\n",
    "\n",
    "- Comando <font color=\"red\">round</font> serve para determinar a quantidade de casas decimais do resultado final (arredonda depois da vírgula).\n",
    "\n",
    "- Utilizei a máscara de Quantidade, Soma e Média dentro do <i>print</i> para sinalizar os resultados."
   ]
  },
  {
   "cell_type": "code",
   "execution_count": 38,
   "metadata": {},
   "outputs": [
    {
     "name": "stdout",
     "output_type": "stream",
     "text": [
      "6\n"
     ]
    }
   ],
   "source": [
    "Nota = [9,6,7,3,8,8,\"oito\", \"A\", \"C\"]\n",
    "\n",
    "Nota.remove(\"oito\")\n",
    "Nota.remove(\"A\")\n",
    "Nota.remove(\"C\")\n",
    "\n",
    "Qtd_nota = len(nota)\n",
    "\n",
    "print(Qtd_nota)"
   ]
  },
  {
   "cell_type": "code",
   "execution_count": 53,
   "metadata": {},
   "outputs": [
    {
     "name": "stdout",
     "output_type": "stream",
     "text": [
      "6\n",
      "41\n"
     ]
    }
   ],
   "source": [
    "Nota = [9,6,7,3,8,8,\"oito\", \"A\", \"C\"]\n",
    "\n",
    "Nota.remove(\"oito\")\n",
    "Nota.remove(\"A\")\n",
    "Nota.remove(\"C\")\n",
    "\n",
    "Qtd_nota = len(Nota)\n",
    "\n",
    "print(Qtd_nota)\n",
    "\n",
    "Soma_nota = 0\n",
    "\n",
    "for n in nota:\n",
    "    Soma_nota = Soma_nota + n\n",
    "\n",
    "print(Soma_nota)"
   ]
  },
  {
   "cell_type": "code",
   "execution_count": 1,
   "metadata": {},
   "outputs": [
    {
     "name": "stdout",
     "output_type": "stream",
     "text": [
      "Quantidade: 6\n",
      "Soma: 41\n",
      "Média: 6.8\n"
     ]
    }
   ],
   "source": [
    "nota = [9,6,7,3,8,8,\"oito\", \"A\", \"C\"]\n",
    "\n",
    "nota.remove(\"oito\")\n",
    "nota.remove(\"A\")\n",
    "nota.remove(\"C\")\n",
    "\n",
    "Qtd_nota = len(nota)\n",
    "\n",
    "print('Quantidade:', Qtd_nota)\n",
    "\n",
    "Soma_nota = 0\n",
    "\n",
    "for n in nota:\n",
    "    Soma_nota = Soma_nota + n\n",
    "    \n",
    "print('Soma:', Soma_nota)\n",
    "    \n",
    "media_nota = Soma_nota / Qtd_nota\n",
    "\n",
    "print('Média:', round(media_nota, 1))"
   ]
  },
  {
   "cell_type": "markdown",
   "metadata": {},
   "source": [
    "Estrutura de dados"
   ]
  },
  {
   "cell_type": "markdown",
   "metadata": {},
   "source": [
    "<font color=\"blue\"><h1>Exercício 3</h1>\n",
    "<h2>Hummm interessante, agora que vimos nossa primeira estrutura de dados, vamos fazer um exercício bem legal. Você tem uma tupla chamada feira. A feira contém: banana, pera, batata, uva, cebola, alho e açucar.\n",
    "\n",
    "<br>Teu chefe te mandou a feira e pediu para você comprar esses produtos, um deles não dá para comprar lá remova ele da lista. No caminho ele te ligou mandou você também comprar maçã e cenoura.\n",
    "\n",
    "Ele é mega chato e mandou você separar em duas sacolas, o que é fruta e o que é legume e entregar tudo ordenado.\n",
    "feira = \"banana\", \"pera\", \"batata\", \"uva\", \"cebola\", \"alho\", \"açucar\"\". </h2></br>"
   ]
  },
  {
   "cell_type": "markdown",
   "metadata": {},
   "source": [
    "<u><font size=\"2\"><u>PASSO 1:</font></u> Transformar as <i>Tuplas</i> em <i>Lista</i>.\n",
    "\n",
    "- As tuplas geralmente estão entre parênteses.\n",
    "\n",
    "- As listas estão entre colchetes.\n",
    "\n",
    "- Para saber o tipo, basta utilizar o comando <font color=\"red\">type </fonte>.\n",
    "\n",
    "<u><font size=\"2\">PASSO 2:</font></u> Remover o <i>açúcar</i> da lista.\n",
    "\n",
    "- Utilizamos o comando <font color=\"red\">remove </fonte>.\n",
    "\n",
    "<u><font size=\"2\">PASSO 3:</font></u> Inserir itens\n",
    "\n",
    "- Utilizamos o comando <font color=\"red\">append</font> para adicionar valores na lista."
   ]
  },
  {
   "cell_type": "code",
   "execution_count": 3,
   "metadata": {},
   "outputs": [],
   "source": [
    "feira = ('banana', 'pêra', 'batata', 'uva', 'cebola', 'alho', 'açúcar')"
   ]
  },
  {
   "cell_type": "code",
   "execution_count": 4,
   "metadata": {},
   "outputs": [],
   "source": [
    "lista = list(feira)"
   ]
  },
  {
   "cell_type": "code",
   "execution_count": 5,
   "metadata": {},
   "outputs": [
    {
     "data": {
      "text/plain": [
       "['banana', 'pêra', 'batata', 'uva', 'cebola', 'alho', 'açúcar']"
      ]
     },
     "execution_count": 5,
     "metadata": {},
     "output_type": "execute_result"
    }
   ],
   "source": [
    "lista"
   ]
  },
  {
   "cell_type": "code",
   "execution_count": null,
   "metadata": {},
   "outputs": [],
   "source": [
    "lista.remove('açúcar')"
   ]
  },
  {
   "cell_type": "code",
   "execution_count": 10,
   "metadata": {},
   "outputs": [
    {
     "data": {
      "text/plain": [
       "['banana', 'pêra', 'batata', 'uva', 'cebola', 'alho']"
      ]
     },
     "execution_count": 10,
     "metadata": {},
     "output_type": "execute_result"
    }
   ],
   "source": [
    "lista"
   ]
  },
  {
   "cell_type": "code",
   "execution_count": null,
   "metadata": {},
   "outputs": [],
   "source": []
  }
 ],
 "metadata": {
  "kernelspec": {
   "display_name": "Python 3",
   "language": "python",
   "name": "python3"
  },
  "language_info": {
   "codemirror_mode": {
    "name": "ipython",
    "version": 3
   },
   "file_extension": ".py",
   "mimetype": "text/x-python",
   "name": "python",
   "nbconvert_exporter": "python",
   "pygments_lexer": "ipython3",
   "version": "3.8.3"
  }
 },
 "nbformat": 4,
 "nbformat_minor": 4
}
