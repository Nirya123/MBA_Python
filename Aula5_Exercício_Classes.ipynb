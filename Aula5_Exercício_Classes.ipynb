{
 "cells": [
  {
   "cell_type": "code",
   "execution_count": 1,
   "metadata": {},
   "outputs": [
    {
     "name": "stdout",
     "output_type": "stream",
     "text": [
      "Meu carro tem 5 portas, é da cor rosa e tem 4 rodas.\n",
      "Nova cor amarelo\n"
     ]
    }
   ],
   "source": [
    "class Veiculo:\n",
    "    porta = 0\n",
    "    roda = 0\n",
    "    cor = ''\n",
    "    \n",
    "    def __init__(self, porta, cor, roda):\n",
    "        self.porta = porta\n",
    "        self.cor = cor\n",
    "        self.roda = roda\n",
    "        print('Meu carro tem', porta,'portas, é da cor', cor, 'e tem', roda, 'rodas.')\n",
    "        \n",
    "    def mudarcor(self, nova_cor):\n",
    "        self.cor = nova_cor\n",
    "    \n",
    "    def imprimenovacor(self):\n",
    "        print('Nova cor', self.cor)\n",
    "        \n",
    "carro_mary = Veiculo(5,'rosa',4)\n",
    "carro_mary.mudarcor('amarelo')\n",
    "carro_mary.imprimenovacor()"
   ]
  },
  {
   "cell_type": "code",
   "execution_count": null,
   "metadata": {},
   "outputs": [],
   "source": []
  }
 ],
 "metadata": {
  "kernelspec": {
   "display_name": "Python 3",
   "language": "python",
   "name": "python3"
  },
  "language_info": {
   "codemirror_mode": {
    "name": "ipython",
    "version": 3
   },
   "file_extension": ".py",
   "mimetype": "text/x-python",
   "name": "python",
   "nbconvert_exporter": "python",
   "pygments_lexer": "ipython3",
   "version": "3.8.3"
  }
 },
 "nbformat": 4,
 "nbformat_minor": 4
}
