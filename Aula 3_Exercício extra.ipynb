{
 "cells": [
  {
   "cell_type": "markdown",
   "metadata": {},
   "source": [
    "Exercício Extra\n",
    "\n",
    "1) Criar lista de 1 a 100 (somar esses números)\n",
    "2) Somar só os pares\n",
    "3) Somar só os ímpares"
   ]
  },
  {
   "cell_type": "code",
   "execution_count": 11,
   "metadata": {},
   "outputs": [],
   "source": [
    "# Colocar 101 já que emprogramação sempre inicia do zero e não do 1.\n",
    "lista_cem = list(range(101))\n",
    "\n",
    "soma_lista = sum(lista_cem)\n",
    "\n",
    "impares = []\n",
    "pares = []\n",
    "\n",
    "# For é usado quando eu sei o quando é o final e quando é número.\n",
    "for n in lista_cem:\n",
    "    if n % 2 == 1: # O % é o mod.Dividir por 2 para saber se é par ou ímpar.Se for 1 é ímpar e 0 é par.\n",
    "        impares.append(n) \n",
    "    else:\n",
    "            pares.append(n)\n",
    "\n",
    "soma_impares = sum(impares)\n",
    "soma_pares = sum(pares)\n",
    "    "
   ]
  },
  {
   "cell_type": "code",
   "execution_count": 12,
   "metadata": {},
   "outputs": [
    {
     "data": {
      "text/plain": [
       "2500"
      ]
     },
     "execution_count": 12,
     "metadata": {},
     "output_type": "execute_result"
    }
   ],
   "source": [
    "soma_impares"
   ]
  },
  {
   "cell_type": "code",
   "execution_count": 13,
   "metadata": {},
   "outputs": [
    {
     "data": {
      "text/plain": [
       "2550"
      ]
     },
     "execution_count": 13,
     "metadata": {},
     "output_type": "execute_result"
    }
   ],
   "source": [
    "soma_pares"
   ]
  },
  {
   "cell_type": "code",
   "execution_count": null,
   "metadata": {},
   "outputs": [],
   "source": []
  }
 ],
 "metadata": {
  "kernelspec": {
   "display_name": "Python 3",
   "language": "python",
   "name": "python3"
  },
  "language_info": {
   "codemirror_mode": {
    "name": "ipython",
    "version": 3
   },
   "file_extension": ".py",
   "mimetype": "text/x-python",
   "name": "python",
   "nbconvert_exporter": "python",
   "pygments_lexer": "ipython3",
   "version": "3.8.3"
  }
 },
 "nbformat": 4,
 "nbformat_minor": 4
}
